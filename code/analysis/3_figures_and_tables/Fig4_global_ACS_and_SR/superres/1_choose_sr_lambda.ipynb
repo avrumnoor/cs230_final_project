{
 "cells": [
  {
   "cell_type": "markdown",
   "metadata": {},
   "source": [
    "# Choosing $\\lambda$ and $\\sigma$ for Super-resolution"
   ]
  },
  {
   "cell_type": "markdown",
   "metadata": {},
   "source": [
    "This notebook does a quick test to evaluate super-resolution performance when multiple values of the ridge regularization parameter, $\\lambda$, are used in the scene-level regression, and when multiple length scales, $\\sigma$, are used for a gaussian filter applied as a post-prediction smoothing step. Because super-resolution is a different task than scene-level prediction, the optimal $\\lambda$ differs from that seen in the regressions for Fig 2."
   ]
  },
  {
   "cell_type": "code",
   "execution_count": null,
   "metadata": {},
   "outputs": [],
   "source": [
    "%load_ext autoreload\n",
    "%autoreload 2"
   ]
  },
  {
   "cell_type": "code",
   "execution_count": 1,
   "metadata": {},
   "outputs": [],
   "source": [
    "import gc\n",
    "from pathlib import Path\n",
    "\n",
    "import dask.distributed as dd\n",
    "import matplotlib.pyplot as plt\n",
    "import numpy as np\n",
    "import pandas as pd\n",
    "import xarray as xr\n",
    "from mosaiks import config as c\n",
    "from mosaiks import transforms\n",
    "from mosaiks.solve import data_parser as parse\n",
    "from mosaiks.solve import solve_functions as msolve\n",
    "from mosaiks.solve import superres as sr\n",
    "from mosaiks.utils import io\n",
    "from scipy.ndimage import gaussian_filter\n",
    "\n",
    "%matplotlib inline"
   ]
  },
  {
   "cell_type": "code",
   "execution_count": 2,
   "metadata": {
    "tags": [
     "parameters"
    ]
   },
   "outputs": [],
   "source": [
    "VAL_SET_SIZE = c.superres[\"val_set_size\"]\n",
    "TEST_LABEL = c.superres[\"test_label\"]\n",
    "LAMBDAS_TO_TEST = c.superres[\"lambdas_to_test\"]\n",
    "SIGMAS_TO_TEST = c.superres[\"sigmas_to_test\"]\n",
    "FACTORS_R2 = c.superres[\"factors_to_test\"]"
   ]
  },
  {
   "cell_type": "code",
   "execution_count": 3,
   "metadata": {},
   "outputs": [],
   "source": [
    "# derived paths\n",
    "TRUE_HMAPS_FPATH = (\n",
    "    Path(c.data_dir) / \"int\" / \"applications\" / TEST_LABEL / \"sr_true.npz\"\n",
    ")\n",
    "\n",
    "save_data_dir = Path(c.data_dir) / \"int\" / f\"superres_hp_eval_n_{VAL_SET_SIZE}\"\n",
    "\n",
    "# make sure save_data_dir exists; if not, make it\n",
    "save_data_dir.mkdir(exist_ok=True, parents=True)\n",
    "\n",
    "# save paths\n",
    "preds_fpath = save_data_dir / \"preds.npz\"\n",
    "\n",
    "# load config for this label\n",
    "c = io.get_filepaths(c, TEST_LABEL)\n",
    "c_app = getattr(c, TEST_LABEL)"
   ]
  },
  {
   "cell_type": "markdown",
   "metadata": {},
   "source": [
    "## Run scene-level regressions with differing hyperparameters"
   ]
  },
  {
   "cell_type": "code",
   "execution_count": 4,
   "metadata": {},
   "outputs": [],
   "source": [
    "# load X\n",
    "X, latlons, net_pred = io.load_superres_X(c)\n",
    "\n",
    "# load Y\n",
    "Y = io.get_Y(c, TEST_LABEL)\n",
    "\n",
    "# shuffle\n",
    "Y = Y.sample(frac=1, random_state=0)\n",
    "\n",
    "# merge x and y\n",
    "Y, X, latlons, ids = parse.merge(Y, X, latlons, pd.Series(Y.index, index=Y.index))\n",
    "X, Y, latlons = transforms.dropna_and_transform(X, Y, latlons, c_app)\n",
    "\n",
    "# send to GPU if available\n",
    "X = msolve.xp.asarray(X)\n",
    "Y = msolve.xp.asarray(Y)\n",
    "\n",
    "# get weights for diff lambdas\n",
    "XtX = X.T.dot(X)\n",
    "XtY = X.T.dot(Y)\n",
    "weights = []\n",
    "for lam in LAMBDAS_TO_TEST:\n",
    "    weights.append(\n",
    "        msolve.linalg.solve(\n",
    "            XtX + lam * msolve.xp.eye(XtX.shape[0], dtype=np.float64),\n",
    "            XtY,\n",
    "            **msolve.linalg_solve_kwargs,\n",
    "        )\n",
    "    )\n",
    "weights = msolve.asnumpy(np.stack(weights, axis=-1))"
   ]
  },
  {
   "cell_type": "code",
   "execution_count": 5,
   "metadata": {},
   "outputs": [],
   "source": [
    "# if running on GPU, this is necessary to clear cache before sr preds\n",
    "%xdel X\n",
    "%xdel Y\n",
    "%xdel XtX\n",
    "%xdel XtY\n",
    "\n",
    "gc.collect()\n",
    "if msolve.GPU:\n",
    "    msolve.mempool.free_all_blocks()"
   ]
  },
  {
   "cell_type": "markdown",
   "metadata": {},
   "source": [
    "## Make super-resolution predictions"
   ]
  },
  {
   "cell_type": "code",
   "execution_count": null,
   "metadata": {},
   "outputs": [
    {
     "name": "stdout",
     "output_type": "stream",
     "text": [
      "going through test frames\n",
      "completed 0 of 1000\n",
      "completed 50 of 1000\n"
     ]
    }
   ],
   "source": [
    "# these are ids that will be used for prediction so we need to\n",
    "# exclude from validation\n",
    "Y_pred = io.get_multiple_Y(c, labels=[\"population\", \"treecover\"], allow_logs=False)\n",
    "Y_pred = Y_pred.sample(frac=1, random_state=0)\n",
    "pred_ids = Y_pred.index[-c.superres[\"n_pred_images\"] :]\n",
    "valid = np.isin(ids, pred_ids)\n",
    "\n",
    "# remove the ids used in prediction\n",
    "ids = ids[valid]\n",
    "latlons = latlons[valid]\n",
    "\n",
    "ids = ids[:VAL_SET_SIZE]\n",
    "pred_maps = sr.make_superres_predictions(latlons[:VAL_SET_SIZE], weights, net_pred)"
   ]
  },
  {
   "cell_type": "code",
   "execution_count": null,
   "metadata": {},
   "outputs": [],
   "source": [
    "# save weights and preds as intermediate step\n",
    "np.savez_compressed(\n",
    "    preds_fpath, weights=weights, lambdas=LAMBDAS_TO_TEST, preds=pred_maps, ids=ids\n",
    ")"
   ]
  },
  {
   "cell_type": "markdown",
   "metadata": {},
   "source": [
    "## Gaussian filtering of predictions"
   ]
  },
  {
   "cell_type": "code",
   "execution_count": null,
   "metadata": {},
   "outputs": [],
   "source": [
    "# load if running from intermediate step\n",
    "data = np.load(preds_fpath, allow_pickle=True)\n",
    "pred_maps = data[\"preds\"]\n",
    "lambdas = data[\"lambdas\"]\n",
    "ids = data[\"ids\"]\n",
    "weights = data[\"weights\"]"
   ]
  },
  {
   "cell_type": "code",
   "execution_count": null,
   "metadata": {},
   "outputs": [],
   "source": [
    "# check different filter widths\n",
    "sigmas = [8, 16, 32]\n",
    "\n",
    "# filter images\n",
    "print(\"computing filters\")\n",
    "\n",
    "# use dask for parallelism\n",
    "client = dd.Client()\n",
    "\n",
    "\n",
    "def filter_all_lambdas(img, sigma):\n",
    "    return np.stack(\n",
    "        [gaussian_filter(img[..., i], sigma=sigma) for i in range(img.shape[-1])]\n",
    "    )\n",
    "\n",
    "\n",
    "hmaps_pred_filtered = []\n",
    "for sigma in sigmas:\n",
    "    ftrs = client.map(lambda x: filter_all_lambdas(x, sigma), pred_maps)\n",
    "    # must swap axes from img_id, sigma, i, j to sigma, img_id, i, j\n",
    "    hmaps_pred_filtered.append(np.swapaxes(np.stack(client.gather(ftrs)), 0, 1))\n",
    "hmaps_pred_filtered = np.stack(hmaps_pred_filtered)"
   ]
  },
  {
   "cell_type": "markdown",
   "metadata": {},
   "source": [
    "## Evaluate performance of diff lambdas"
   ]
  },
  {
   "cell_type": "markdown",
   "metadata": {},
   "source": [
    "### Load truth and clean"
   ]
  },
  {
   "cell_type": "code",
   "execution_count": 22,
   "metadata": {},
   "outputs": [],
   "source": [
    "# get true pixel-level values\n",
    "data_true = np.load(TRUE_HMAPS_FPATH)\n",
    "all_hmaps = data_true[\"frames\"]\n",
    "\n",
    "# convert to DataArray to facilitate reindexing on id\n",
    "all_hmaps = xr.DataArray(\n",
    "    all_hmaps,\n",
    "    coords={\n",
    "        \"image_id\": data_true[\"ids\"],\n",
    "        \"i\": range(all_hmaps.shape[1]),\n",
    "        \"j\": range(all_hmaps.shape[2]),\n",
    "    },\n",
    "    dims=[\"image_id\", \"i\", \"j\"],\n",
    ")\n",
    "hmaps_true = all_hmaps.sel(image_id=ids).values\n",
    "\n",
    "# make sure to account for nans in int\n",
    "hmaps_true = np.where(hmaps_true != 255, hmaps_true, np.nan)\n",
    "\n",
    "# crop truth it has the same window as preds, which is divisible by 32\n",
    "this_hmaps_true, this_hmaps_pred = sr.crop_rasters_for_sr(\n",
    "    FACTORS_R2[-1], hmaps_true, hmaps_pred_filtered\n",
    ")\n",
    "\n",
    "# drop images with null ground truth pixels b/c messes with means\n",
    "valid_images = ~np.isnan(this_hmaps_true).any(axis=(1, 2))\n",
    "this_hmaps_true = this_hmaps_true[valid_images]\n",
    "this_hmaps_pred = this_hmaps_pred[:, :, valid_images, :, :]"
   ]
  },
  {
   "cell_type": "markdown",
   "metadata": {},
   "source": [
    "### Calculate R2"
   ]
  },
  {
   "cell_type": "code",
   "execution_count": 26,
   "metadata": {},
   "outputs": [
    {
     "name": "stdout",
     "output_type": "stream",
     "text": [
      "sigma = 8\n",
      "lambda = 10000.0\n",
      "112\n",
      "56\n",
      "28\n",
      "14\n",
      "7\n",
      "lambda = 100000.0\n",
      "112\n",
      "56\n",
      "28\n",
      "14\n",
      "7\n",
      "lambda = 1000000.0\n",
      "112\n",
      "56\n",
      "28\n",
      "14\n",
      "7\n",
      "lambda = 10000000.0\n",
      "112\n",
      "56\n",
      "28\n",
      "14\n",
      "7\n",
      "sigma = 16\n",
      "lambda = 10000.0\n",
      "112\n",
      "56\n",
      "28\n",
      "14\n",
      "7\n",
      "lambda = 100000.0\n",
      "112\n",
      "56\n",
      "28\n",
      "14\n",
      "7\n",
      "lambda = 1000000.0\n",
      "112\n",
      "56\n",
      "28\n",
      "14\n",
      "7\n",
      "lambda = 10000000.0\n",
      "112\n",
      "56\n",
      "28\n",
      "14\n",
      "7\n",
      "sigma = 32\n",
      "lambda = 10000.0\n",
      "112\n",
      "56\n",
      "28\n",
      "14\n",
      "7\n",
      "lambda = 100000.0\n",
      "112\n",
      "56\n",
      "28\n",
      "14\n",
      "7\n",
      "lambda = 1000000.0\n",
      "112\n",
      "56\n",
      "28\n",
      "14\n",
      "7\n",
      "lambda = 10000000.0\n",
      "112\n",
      "56\n",
      "28\n",
      "14\n",
      "7\n"
     ]
    }
   ],
   "source": [
    "# choose SR pixel widths\n",
    "widths_r2 = [int(this_hmaps_true.shape[1] / x) for x in FACTORS_R2]\n",
    "\n",
    "# get clipping bounds (we do not use logs in superres)\n",
    "bounds = c_app[\"us_bounds_pred\"]\n",
    "\n",
    "# get r2\n",
    "r2s_s_l = np.ones((len(sigmas), len(lambdas), len(FACTORS_R2))) * np.nan\n",
    "for sx, sigma in enumerate(sigmas):\n",
    "    print(f\"sigma = {sigma}\")\n",
    "    for lx, l in enumerate(lambdas):\n",
    "        print(f\"lambda = {l}\")\n",
    "        r2s_s_l[sx, lx] = sr.across_image_r2s(\n",
    "            this_hmaps_pred[sx, lx].squeeze(),\n",
    "            this_hmaps_true,\n",
    "            widths_r2,\n",
    "            demean=True,\n",
    "            clip=True,\n",
    "            bounds=bounds,\n",
    "        )"
   ]
  },
  {
   "cell_type": "markdown",
   "metadata": {},
   "source": [
    "## Plot"
   ]
  },
  {
   "cell_type": "code",
   "execution_count": 27,
   "metadata": {},
   "outputs": [
    {
     "data": {
      "text/plain": [
       "<matplotlib.legend.Legend at 0x7fbd85c10550>"
      ]
     },
     "execution_count": 27,
     "metadata": {},
     "output_type": "execute_result"
    },
    {
     "data": {
      "image/png": "[encoded data removed]",
      "text/plain": [
       "<Figure size 432x288 with 1 Axes>"
      ]
     },
     "metadata": {
      "needs_background": "light"
     },
     "output_type": "display_data"
    }
   ],
   "source": [
    "for lx, l in enumerate(lambdas):\n",
    "    for sx, s in enumerate(sigmas):\n",
    "        plt.plot(\n",
    "            FACTORS_R2,\n",
    "            r2s_s_l[sx, lx],\n",
    "            label=f\"$\\lambda$: {l}; $\\sigma$: {s}\",\n",
    "        )\n",
    "plt.legend()"
   ]
  },
  {
   "cell_type": "markdown",
   "metadata": {},
   "source": [
    "# Save best $\\lambda$ and $\\sigma$"
   ]
  },
  {
   "cell_type": "code",
   "execution_count": 30,
   "metadata": {},
   "outputs": [],
   "source": [
    "best_ixs = np.argwhere(r2s_s_l[..., -1] == r2s_s_l[..., -1].max()).squeeze()\n",
    "\n",
    "assert best_ixs.ndim == 1\n",
    "best_sigma = SIGMAS_TO_TEST[best_ixs[0]]\n",
    "best_lambda = LAMBDAS_TO_TEST[best_ixs[0]]"
   ]
  },
  {
   "cell_type": "code",
   "execution_count": 32,
   "metadata": {},
   "outputs": [],
   "source": [
    "np.savez_compressed(\n",
    "    preds_fpath,\n",
    "    weights=weights,\n",
    "    lambdas=LAMBDAS_TO_TEST,\n",
    "    preds=pred_maps,\n",
    "    ids=ids,\n",
    "    best_lambda=best_lambda,\n",
    "    best_sigma=best_sigma,\n",
    ")"
   ]
  }
 ],
 "metadata": {
  "kernelspec": {
   "display_name": "mosaiks-env",
   "language": "python",
   "name": "mosaiks-env"
  },
  "language_info": {
   "codemirror_mode": {
    "name": "ipython",
    "version": 3
   },
   "file_extension": ".py",
   "mimetype": "text/x-python",
   "name": "python",
   "nbconvert_exporter": "python",
   "pygments_lexer": "ipython3",
   "version": "3.9.2"
  }
 },
 "nbformat": 4,
 "nbformat_minor": 4
}
