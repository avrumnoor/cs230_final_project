{
 "cells": [
  {
   "cell_type": "markdown",
   "metadata": {},
   "source": [
    "### ACS experiment performance (barchart)"
   ]
  },
  {
   "cell_type": "markdown",
   "metadata": {},
   "source": [
    "Here we plot Figure 4B"
   ]
  },
  {
   "cell_type": "code",
   "execution_count": 1,
   "metadata": {},
   "outputs": [],
   "source": [
    "import os\n",
    "from pathlib import Path\n",
    "import numpy as np\n",
    "import matplotlib.pyplot as plt\n",
    "import sklearn.metrics\n",
    "from mosaiks import config as c\n",
    "from mosaiks.plotting import fig_2_functions as f2\n",
    "%matplotlib inline"
   ]
  },
  {
   "cell_type": "code",
   "execution_count": 2,
   "metadata": {},
   "outputs": [],
   "source": [
    "save_dir = Path(c.res_dir, \"figures\", \"Fig4\")\n",
    "save_dir.mkdir(exist_ok=True, parents=True)"
   ]
  },
  {
   "cell_type": "markdown",
   "metadata": {},
   "source": [
    "# Get task names in the specified order"
   ]
  },
  {
   "cell_type": "code",
   "execution_count": 3,
   "metadata": {},
   "outputs": [],
   "source": [
    "c.app_order = [\n",
    "    \"B08303\",\n",
    "    \"B15003\",\n",
    "    \"B19013\",\n",
    "    \"B19301\",\n",
    "    \"C17002\",\n",
    "    \"B22010\",\n",
    "    \"B25071\",\n",
    "    \"B25001\",\n",
    "    \"B25002\",\n",
    "    \"B25035\",\n",
    "    \"B25017\",\n",
    "    \"B25077\",\n",
    "]"
   ]
  },
  {
   "cell_type": "code",
   "execution_count": 4,
   "metadata": {},
   "outputs": [],
   "source": [
    "# get task names\n",
    "c_by_app_acs = [getattr(c, i) for i in c.app_order]\n",
    "tasks = [config[\"application\"] for config in c_by_app_acs]\n",
    "num_tasks = len(tasks)\n",
    "\n",
    "task_names_acs = np.array([config[\"disp_name_short\"] for config in c_by_app_acs])"
   ]
  },
  {
   "cell_type": "markdown",
   "metadata": {},
   "source": [
    "# Grab and aggregate the data files from the primary analysis for plotting"
   ]
  },
  {
   "cell_type": "code",
   "execution_count": 5,
   "metadata": {},
   "outputs": [
    {
     "name": "stderr",
     "output_type": "stream",
     "text": [
      "/shares/lab/Datasets/Remote_Sensing/replication/code_JP/code/mosaiks/plotting/fig_2_functions.py:350: RuntimeWarning: invalid value encountered in true_divide\n",
      "  vals_grid = sums_grid / counts\n"
     ]
    },
    {
     "name": "stdout",
     "output_type": "stream",
     "text": [
      "dataset sizes are:\n",
      "B08303: 78449\n",
      "B15003: 78680\n",
      "B19013: 73184\n",
      "B19301: 78579\n",
      "C17002: 78341\n",
      "B22010: 78251\n",
      "B25071: 49858\n",
      "B25001: 79489\n",
      "B25002: 78299\n",
      "B25035: 75620\n",
      "B25017: 78299\n",
      "B25077: 69356\n"
     ]
    },
    {
     "data": {
      "text/plain": [
       "[None, None, None, None, None, None, None, None, None, None, None, None]"
      ]
     },
     "execution_count": 5,
     "metadata": {},
     "output_type": "execute_result"
    }
   ],
   "source": [
    "data_by_task_acs = f2.aggregrate_and_bin_data(agg_scale=0.2, is_ACS=True)\n",
    "print(\"dataset sizes are:\")\n",
    "[\n",
    "    print(\"{0}: {1}\".format(tasks[t], len(data_by_task_acs[\"truth_by_task\"][t])))\n",
    "    for t in range(num_tasks)\n",
    "]"
   ]
  },
  {
   "cell_type": "markdown",
   "metadata": {},
   "source": [
    "# Plot  Fig 2"
   ]
  },
  {
   "cell_type": "code",
   "execution_count": 6,
   "metadata": {},
   "outputs": [],
   "source": [
    "# collect and plot r2s for ACS regs:\n",
    "r2s_acs = np.zeros(len(tasks))\n",
    "for i in range(len(tasks)):\n",
    "    y_pred_this = data_by_task_acs[\"preds_by_task\"][i]\n",
    "    y_true_this = data_by_task_acs[\"truth_by_task\"][i]\n",
    "    r2s_acs[i] = sklearn.metrics.r2_score(y_true_this, y_pred_this)\n",
    "\n",
    "acs_descending_order = np.argsort(r2s_acs)"
   ]
  },
  {
   "cell_type": "code",
   "execution_count": 7,
   "metadata": {},
   "outputs": [
    {
     "data": {
      "text/plain": [
       "<BarContainer object of 12 artists>"
      ]
     },
     "execution_count": 7,
     "metadata": {},
     "output_type": "execute_result"
    },
    {
     "data": {
      "image/png": "[encoded data removed]",
      "text/plain": [
       "<Figure size 720x720 with 1 Axes>"
      ]
     },
     "metadata": {
      "needs_background": "light"
     },
     "output_type": "display_data"
    }
   ],
   "source": [
    "fig, ax = plt.subplots(figsize=(10, 10))\n",
    "plt.barh(\n",
    "    task_names_acs[acs_descending_order], r2s_acs[acs_descending_order], color=\"grey\"\n",
    ")"
   ]
  },
  {
   "cell_type": "code",
   "execution_count": 8,
   "metadata": {},
   "outputs": [],
   "source": [
    "fig.savefig(save_dir / \"ACS_barchart.pdf\")"
   ]
  }
 ],
 "metadata": {
  "kernelspec": {
   "display_name": "Python [conda env:mosaiks-env]",
   "language": "python",
   "name": "conda-env-mosaiks-env-py"
  },
  "language_info": {
   "codemirror_mode": {
    "name": "ipython",
    "version": 3
   },
   "file_extension": ".py",
   "mimetype": "text/x-python",
   "name": "python",
   "nbconvert_exporter": "python",
   "pygments_lexer": "ipython3",
   "version": "3.7.6"
  }
 },
 "nbformat": 4,
 "nbformat_minor": 4
}
